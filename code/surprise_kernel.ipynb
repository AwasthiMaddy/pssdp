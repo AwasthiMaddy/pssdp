{
 "cells": [
  {
   "cell_type": "code",
   "execution_count": 80,
   "metadata": {},
   "outputs": [],
   "source": [
    "import os\n",
    "import time\n",
    "import pickle\n",
    "import gc\n",
    "import glob, re\n",
    "import numpy as np\n",
    "import pandas as pd\n",
    "from sklearn import *\n",
    "from datetime import datetime\n",
    "from xgboost import XGBRegressor\n",
    "from lightgbm import LGBMRegressor\n",
    "import datetime "
   ]
  },
  {
   "cell_type": "code",
   "execution_count": 81,
   "metadata": {
    "collapsed": true
   },
   "outputs": [],
   "source": [
    "BASE_DIR = '/home/maddy14awasthi/DS/recruit-restaurant-visitor-forecasting'\n",
    "\n",
    "# A naive time function\n",
    "def time_elapsed(t0, str_result=True):\n",
    "    t = np.round((time.time()-t0)/60, 3)\n",
    "    if str_result==True:\n",
    "        return str(t)+' minutes elapsed!'\n",
    "    else:\n",
    "        return t"
   ]
  },
  {
   "cell_type": "code",
   "execution_count": 82,
   "metadata": {
    "collapsed": true
   },
   "outputs": [],
   "source": [
    "data = {'tra': pd.read_csv(os.path.join(BASE_DIR, 'data', 'air_visit_data.csv.zip')), \n",
    "        'as': pd.read_csv(os.path.join(BASE_DIR, 'data', 'air_store_info.csv.zip')),\n",
    "        'hs': pd.read_csv(os.path.join(BASE_DIR, 'data', 'hpg_store_info.csv.zip')),\n",
    "        'ar': pd.read_csv(os.path.join(BASE_DIR, 'data', 'air_reserve.csv.zip')),\n",
    "        'hr': pd.read_csv(os.path.join(BASE_DIR, 'data', 'hpg_reserve.csv.zip')),\n",
    "        'id': pd.read_csv(os.path.join(BASE_DIR, 'data', 'store_id_relation.csv.zip')),\n",
    "        'tes': pd.read_csv(os.path.join(BASE_DIR, 'data', 'sample_submission.csv.zip')),\n",
    "        'hol': pd.read_csv(os.path.join(BASE_DIR, 'data', 'date_info.csv.zip')).rename(columns={'calendar_date':'visit_date'})}\n",
    "\n",
    "data['hr'] = pd.merge(data['hr'], data['id'], how='inner', on=['hpg_store_id'])"
   ]
  },
  {
   "cell_type": "code",
   "execution_count": 83,
   "metadata": {
    "collapsed": true
   },
   "outputs": [],
   "source": [
    "for df in ['ar','hr']:\n",
    "    data[df]['visit_datetime'] = pd.to_datetime(data[df]['visit_datetime'])\n",
    "    data[df]['visit_datetime'] = data[df]['visit_datetime'].dt.date\n",
    "    data[df]['reserve_datetime'] = pd.to_datetime(data[df]['reserve_datetime'])\n",
    "    data[df]['reserve_datetime'] = data[df]['reserve_datetime'].dt.date\n",
    "    data[df]['reserve_datetime_diff'] = data[df].apply(lambda r: (r['visit_datetime']-r['reserve_datetime']).days, axis=1)\n",
    "    tmp1 = data[df].groupby(['air_store_id','visit_datetime'], as_index=False)[[\n",
    "           'reserve_datetime_diff','reserve_visitors']].sum().rename(columns={'visit_datetime':'visit_date', \n",
    "                        'reserve_datetime_diff':'rs1', 'reserve_visitors':'rv1'})\n",
    "    tmp2 = data[df].groupby(['air_store_id','visit_datetime'], as_index=False)[[\n",
    "           'reserve_datetime_diff','reserve_visitors']].mean().rename(columns={'visit_datetime':'visit_date', \n",
    "                        'reserve_datetime_diff':'rs2', 'reserve_visitors':'rv2'})\n",
    "    data[df] = pd.merge(tmp1, tmp2, how='inner', on=['air_store_id', 'visit_date'])"
   ]
  },
  {
   "cell_type": "code",
   "execution_count": 84,
   "metadata": {
    "collapsed": true
   },
   "outputs": [],
   "source": [
    "data['tra']['visit_date'] = pd.to_datetime(data['tra']['visit_date'])\n",
    "data['tra']['dow'] = data['tra']['visit_date'].dt.dayofweek\n",
    "data['tra']['year'] = data['tra']['visit_date'].dt.year\n",
    "data['tra']['month'] = data['tra']['visit_date'].dt.month\n",
    "data['tra']['visit_date'] = data['tra']['visit_date'].dt.date\n",
    "\n",
    "data['tes']['visit_date'] = data['tes']['id'].map(lambda x: str(x).split('_')[2])\n",
    "data['tes']['air_store_id'] = data['tes']['id'].map(lambda x: '_'.join(x.split('_')[:2]))\n",
    "data['tes']['visit_date'] = pd.to_datetime(data['tes']['visit_date'])\n",
    "data['tes']['dow'] = data['tes']['visit_date'].dt.dayofweek\n",
    "data['tes']['year'] = data['tes']['visit_date'].dt.year\n",
    "data['tes']['month'] = data['tes']['visit_date'].dt.month\n",
    "data['tes']['visit_date'] = data['tes']['visit_date'].dt.date"
   ]
  },
  {
   "cell_type": "code",
   "execution_count": 85,
   "metadata": {
    "collapsed": true
   },
   "outputs": [],
   "source": [
    "unique_stores = data['tes']['air_store_id'].unique()\n",
    "stores = pd.concat([pd.DataFrame({'air_store_id': unique_stores, 'dow': [i]*len(unique_stores)}) for i in range(7)],\n",
    "                   axis=0, ignore_index=True).reset_index(drop=True)"
   ]
  },
  {
   "cell_type": "code",
   "execution_count": 86,
   "metadata": {},
   "outputs": [],
   "source": [
    "df_16 = data['tra'].loc[data['tra'].year==2016,:]\n",
    "train_df = data['tra'].loc[data['tra'].year==2017,:] "
   ]
  },
  {
   "cell_type": "code",
   "execution_count": 87,
   "metadata": {},
   "outputs": [
    {
     "data": {
      "text/html": [
       "<div>\n",
       "<style>\n",
       "    .dataframe thead tr:only-child th {\n",
       "        text-align: right;\n",
       "    }\n",
       "\n",
       "    .dataframe thead th {\n",
       "        text-align: left;\n",
       "    }\n",
       "\n",
       "    .dataframe tbody tr th {\n",
       "        vertical-align: top;\n",
       "    }\n",
       "</style>\n",
       "<table border=\"1\" class=\"dataframe\">\n",
       "  <thead>\n",
       "    <tr style=\"text-align: right;\">\n",
       "      <th></th>\n",
       "      <th>air_store_id</th>\n",
       "      <th>dow</th>\n",
       "      <th>min_visitors</th>\n",
       "      <th>mean_visitors</th>\n",
       "      <th>median_visitors</th>\n",
       "      <th>max_visitors</th>\n",
       "      <th>count_16_visitors</th>\n",
       "      <th>std_visitors</th>\n",
       "      <th>air_genre_name</th>\n",
       "      <th>air_area_name</th>\n",
       "      <th>latitude</th>\n",
       "      <th>longitude</th>\n",
       "    </tr>\n",
       "  </thead>\n",
       "  <tbody>\n",
       "    <tr>\n",
       "      <th>0</th>\n",
       "      <td>air_00a91d42b08b08d9</td>\n",
       "      <td>0</td>\n",
       "      <td>1.0</td>\n",
       "      <td>20.590909</td>\n",
       "      <td>19.0</td>\n",
       "      <td>47.0</td>\n",
       "      <td>22.0</td>\n",
       "      <td>8.743210</td>\n",
       "      <td>Italian/French</td>\n",
       "      <td>Tōkyō-to Chiyoda-ku Kudanminami</td>\n",
       "      <td>35.694003</td>\n",
       "      <td>139.753595</td>\n",
       "    </tr>\n",
       "    <tr>\n",
       "      <th>1</th>\n",
       "      <td>air_0164b9927d20bcc3</td>\n",
       "      <td>0</td>\n",
       "      <td>2.0</td>\n",
       "      <td>6.888889</td>\n",
       "      <td>6.0</td>\n",
       "      <td>19.0</td>\n",
       "      <td>9.0</td>\n",
       "      <td>5.464532</td>\n",
       "      <td>Italian/French</td>\n",
       "      <td>Tōkyō-to Minato-ku Shibakōen</td>\n",
       "      <td>35.658068</td>\n",
       "      <td>139.751599</td>\n",
       "    </tr>\n",
       "  </tbody>\n",
       "</table>\n",
       "</div>"
      ],
      "text/plain": [
       "           air_store_id  dow  min_visitors  mean_visitors  median_visitors  \\\n",
       "0  air_00a91d42b08b08d9    0           1.0      20.590909             19.0   \n",
       "1  air_0164b9927d20bcc3    0           2.0       6.888889              6.0   \n",
       "\n",
       "   max_visitors  count_16_visitors  std_visitors  air_genre_name  \\\n",
       "0          47.0               22.0      8.743210  Italian/French   \n",
       "1          19.0                9.0      5.464532  Italian/French   \n",
       "\n",
       "                     air_area_name   latitude   longitude  \n",
       "0  Tōkyō-to Chiyoda-ku Kudanminami  35.694003  139.753595  \n",
       "1     Tōkyō-to Minato-ku Shibakōen  35.658068  139.751599  "
      ]
     },
     "execution_count": 87,
     "metadata": {},
     "output_type": "execute_result"
    }
   ],
   "source": [
    "#sure it can be compressed...\n",
    "store_dow_gpby = df_16.groupby(['air_store_id','dow'])['visitors']\n",
    "\n",
    "tmp = store_dow_gpby.min().reset_index().rename(columns={'visitors':'min_visitors'})\n",
    "stores = pd.merge(stores, tmp, how='left', on=['air_store_id','dow']) \n",
    "\n",
    "tmp = store_dow_gpby.mean().reset_index().rename(columns={'visitors':'mean_visitors'})\n",
    "stores = pd.merge(stores, tmp, how='left', on=['air_store_id','dow'])\n",
    "\n",
    "tmp = store_dow_gpby.median().reset_index().rename(columns={'visitors':'median_visitors'})\n",
    "stores = pd.merge(stores, tmp, how='left', on=['air_store_id','dow'])\n",
    "\n",
    "tmp = store_dow_gpby.max().reset_index().rename(columns={'visitors':'max_visitors'})\n",
    "stores = pd.merge(stores, tmp, how='left', on=['air_store_id','dow'])\n",
    "\n",
    "tmp = store_dow_gpby.count().reset_index().rename(columns={'visitors':'count_16_visitors'})\n",
    "stores = pd.merge(stores, tmp, how='left', on=['air_store_id','dow']) \n",
    "\n",
    "tmp = store_dow_gpby.std().reset_index().rename(columns={'visitors':'std_visitors'})\n",
    "stores = pd.merge(stores, tmp, how='left', on=['air_store_id','dow'])\n",
    "\n",
    "stores = pd.merge(stores, data['as'], how='left', on=['air_store_id'])\n",
    "stores.head(2)"
   ]
  },
  {
   "cell_type": "code",
   "execution_count": 88,
   "metadata": {},
   "outputs": [
    {
     "data": {
      "text/html": [
       "<div>\n",
       "<style>\n",
       "    .dataframe thead tr:only-child th {\n",
       "        text-align: right;\n",
       "    }\n",
       "\n",
       "    .dataframe thead th {\n",
       "        text-align: left;\n",
       "    }\n",
       "\n",
       "    .dataframe tbody tr th {\n",
       "        vertical-align: top;\n",
       "    }\n",
       "</style>\n",
       "<table border=\"1\" class=\"dataframe\">\n",
       "  <thead>\n",
       "    <tr style=\"text-align: right;\">\n",
       "      <th></th>\n",
       "      <th>air_store_id</th>\n",
       "      <th>dow</th>\n",
       "      <th>min_visitors</th>\n",
       "      <th>mean_visitors</th>\n",
       "      <th>median_visitors</th>\n",
       "      <th>max_visitors</th>\n",
       "      <th>count_16_visitors</th>\n",
       "      <th>std_visitors</th>\n",
       "      <th>air_genre_name</th>\n",
       "      <th>air_area_name</th>\n",
       "      <th>...</th>\n",
       "      <th>air_genre_name5</th>\n",
       "      <th>air_area_name5</th>\n",
       "      <th>air_genre_name6</th>\n",
       "      <th>air_area_name6</th>\n",
       "      <th>air_genre_name7</th>\n",
       "      <th>air_area_name7</th>\n",
       "      <th>air_genre_name8</th>\n",
       "      <th>air_area_name8</th>\n",
       "      <th>air_genre_name9</th>\n",
       "      <th>air_area_name9</th>\n",
       "    </tr>\n",
       "  </thead>\n",
       "  <tbody>\n",
       "    <tr>\n",
       "      <th>0</th>\n",
       "      <td>air_00a91d42b08b08d9</td>\n",
       "      <td>0</td>\n",
       "      <td>1.0</td>\n",
       "      <td>20.590909</td>\n",
       "      <td>19.0</td>\n",
       "      <td>47.0</td>\n",
       "      <td>22.0</td>\n",
       "      <td>8.743210</td>\n",
       "      <td>6</td>\n",
       "      <td>44</td>\n",
       "      <td>...</td>\n",
       "      <td>0</td>\n",
       "      <td>0</td>\n",
       "      <td>0</td>\n",
       "      <td>0</td>\n",
       "      <td>0</td>\n",
       "      <td>0</td>\n",
       "      <td>0</td>\n",
       "      <td>0</td>\n",
       "      <td>0</td>\n",
       "      <td>0</td>\n",
       "    </tr>\n",
       "    <tr>\n",
       "      <th>1</th>\n",
       "      <td>air_0164b9927d20bcc3</td>\n",
       "      <td>0</td>\n",
       "      <td>2.0</td>\n",
       "      <td>6.888889</td>\n",
       "      <td>6.0</td>\n",
       "      <td>19.0</td>\n",
       "      <td>9.0</td>\n",
       "      <td>5.464532</td>\n",
       "      <td>6</td>\n",
       "      <td>62</td>\n",
       "      <td>...</td>\n",
       "      <td>0</td>\n",
       "      <td>0</td>\n",
       "      <td>0</td>\n",
       "      <td>0</td>\n",
       "      <td>0</td>\n",
       "      <td>0</td>\n",
       "      <td>0</td>\n",
       "      <td>0</td>\n",
       "      <td>0</td>\n",
       "      <td>0</td>\n",
       "    </tr>\n",
       "  </tbody>\n",
       "</table>\n",
       "<p>2 rows × 32 columns</p>\n",
       "</div>"
      ],
      "text/plain": [
       "           air_store_id  dow  min_visitors  mean_visitors  median_visitors  \\\n",
       "0  air_00a91d42b08b08d9    0           1.0      20.590909             19.0   \n",
       "1  air_0164b9927d20bcc3    0           2.0       6.888889              6.0   \n",
       "\n",
       "   max_visitors  count_16_visitors  std_visitors  air_genre_name  \\\n",
       "0          47.0               22.0      8.743210               6   \n",
       "1          19.0                9.0      5.464532               6   \n",
       "\n",
       "   air_area_name       ...        air_genre_name5  air_area_name5  \\\n",
       "0             44       ...                      0               0   \n",
       "1             62       ...                      0               0   \n",
       "\n",
       "   air_genre_name6  air_area_name6  air_genre_name7  air_area_name7  \\\n",
       "0                0               0                0               0   \n",
       "1                0               0                0               0   \n",
       "\n",
       "   air_genre_name8  air_area_name8  air_genre_name9  air_area_name9  \n",
       "0                0               0                0               0  \n",
       "1                0               0                0               0  \n",
       "\n",
       "[2 rows x 32 columns]"
      ]
     },
     "execution_count": 88,
     "metadata": {},
     "output_type": "execute_result"
    }
   ],
   "source": [
    "stores['air_genre_name'] = stores['air_genre_name'].map(lambda x: str(str(x).replace('/',' ')))\n",
    "stores['air_area_name'] = stores['air_area_name'].map(lambda x: str(str(x).replace('-',' ')))\n",
    "lbl = preprocessing.LabelEncoder()\n",
    "for i in range(10):\n",
    "    stores['air_genre_name'+str(i)] = lbl.fit_transform(stores['air_genre_name'].map(lambda x: str(str(x).split(' ')[i]) if len(str(x).split(' '))>i else ''))\n",
    "    stores['air_area_name'+str(i)] = lbl.fit_transform(stores['air_area_name'].map(lambda x: str(str(x).split(' ')[i]) if len(str(x).split(' '))>i else ''))\n",
    "stores['air_genre_name'] = lbl.fit_transform(stores['air_genre_name'])\n",
    "stores['air_area_name'] = lbl.fit_transform(stores['air_area_name'])\n",
    "stores.head(2)"
   ]
  },
  {
   "cell_type": "code",
   "execution_count": 89,
   "metadata": {},
   "outputs": [
    {
     "data": {
      "text/html": [
       "<div>\n",
       "<style>\n",
       "    .dataframe thead tr:only-child th {\n",
       "        text-align: right;\n",
       "    }\n",
       "\n",
       "    .dataframe thead th {\n",
       "        text-align: left;\n",
       "    }\n",
       "\n",
       "    .dataframe tbody tr th {\n",
       "        vertical-align: top;\n",
       "    }\n",
       "</style>\n",
       "<table border=\"1\" class=\"dataframe\">\n",
       "  <thead>\n",
       "    <tr style=\"text-align: right;\">\n",
       "      <th></th>\n",
       "      <th>visit_date</th>\n",
       "      <th>day_of_week</th>\n",
       "      <th>holiday_flg</th>\n",
       "    </tr>\n",
       "  </thead>\n",
       "  <tbody>\n",
       "    <tr>\n",
       "      <th>0</th>\n",
       "      <td>2016-01-01</td>\n",
       "      <td>4</td>\n",
       "      <td>1</td>\n",
       "    </tr>\n",
       "    <tr>\n",
       "      <th>1</th>\n",
       "      <td>2016-01-02</td>\n",
       "      <td>5</td>\n",
       "      <td>1</td>\n",
       "    </tr>\n",
       "  </tbody>\n",
       "</table>\n",
       "</div>"
      ],
      "text/plain": [
       "   visit_date  day_of_week  holiday_flg\n",
       "0  2016-01-01            4            1\n",
       "1  2016-01-02            5            1"
      ]
     },
     "execution_count": 89,
     "metadata": {},
     "output_type": "execute_result"
    }
   ],
   "source": [
    "data['hol']['visit_date'] = pd.to_datetime(data['hol']['visit_date'])\n",
    "data['hol']['day_of_week'] = data['hol'].visit_date.dt.dayofweek\n",
    "data['hol']['visit_date'] = data['hol']['visit_date'].dt.date\n",
    "data['hol'].head(2)"
   ]
  },
  {
   "cell_type": "code",
   "execution_count": 90,
   "metadata": {},
   "outputs": [],
   "source": [
    "train = pd.merge(train_df, data['hol'], how='left', on=['visit_date']) \n",
    "test = pd.merge(data['tes'], data['hol'], how='left', on=['visit_date']) \n",
    "\n",
    "train = pd.merge(train, stores, how='left', on=['air_store_id','dow']) \n",
    "test = pd.merge(test, stores, how='left', on=['air_store_id','dow'])\n"
   ]
  },
  {
   "cell_type": "code",
   "execution_count": 91,
   "metadata": {},
   "outputs": [
    {
     "name": "stdout",
     "output_type": "stream",
     "text": [
      "(77573, 46) (32019, 47)\n"
     ]
    }
   ],
   "source": [
    "for df in ['ar','hr']:\n",
    "    train = pd.merge(train, data[df], how='left', on=['air_store_id','visit_date']) \n",
    "    test = pd.merge(test, data[df], how='left', on=['air_store_id','visit_date'])\n",
    "\n",
    "print(train.shape, test.shape)"
   ]
  },
  {
   "cell_type": "code",
   "execution_count": 114,
   "metadata": {
    "collapsed": true
   },
   "outputs": [],
   "source": [
    "train['total_reserv_sum'] = train['rv1_x'] + train['rv1_y']\n",
    "train['total_reserv_mean'] = (train['rv2_x'] + train['rv2_y']) / 2\n",
    "train['total_reserv_dt_diff_mean'] = (train['rs2_x'] + train['rs2_y']) / 2\n",
    "\n",
    "test['total_reserv_sum'] = test['rv1_x'] + test['rv1_y']\n",
    "test['total_reserv_mean'] = (test['rv2_x'] + test['rv2_y']) / 2\n",
    "test['total_reserv_dt_diff_mean'] = (test['rs2_x'] + test['rs2_y']) / 2"
   ]
  },
  {
   "cell_type": "code",
   "execution_count": 115,
   "metadata": {},
   "outputs": [],
   "source": [
    "train['date_int'] = train['visit_date'].apply(lambda x: x.strftime('%Y%m%d')).astype(int)\n",
    "test['date_int'] = test['visit_date'].apply(lambda x: x.strftime('%Y%m%d')).astype(int)\n",
    "train['var_max_lat'] = train['latitude'].max() - train['latitude']\n",
    "train['var_max_long'] = train['longitude'].max() - train['longitude']\n",
    "test['var_max_lat'] = test['latitude'].max() - test['latitude']\n",
    "test['var_max_long'] = test['longitude'].max() - test['longitude']\n",
    "\n",
    "# NEW FEATURES FROM Georgii Vyshnia\n",
    "train['lon_plus_lat'] = train['longitude'] + train['latitude'] \n",
    "test['lon_plus_lat'] = test['longitude'] + test['latitude']\n",
    "\n",
    "lbl = preprocessing.LabelEncoder()\n",
    "train['air_store_id2'] = lbl.fit_transform(train['air_store_id'])\n",
    "test['air_store_id2'] = lbl.transform(test['air_store_id'])\n"
   ]
  },
  {
   "cell_type": "code",
   "execution_count": 116,
   "metadata": {},
   "outputs": [
    {
     "name": "stdout",
     "output_type": "stream",
     "text": [
      "['dow', 'year', 'month', 'day_of_week', 'holiday_flg', 'min_visitors', 'mean_visitors', 'median_visitors', 'max_visitors', 'count_16_visitors', 'std_visitors', 'air_genre_name', 'air_area_name', 'latitude', 'longitude', 'air_genre_name0', 'air_area_name0', 'air_genre_name1', 'air_area_name1', 'air_genre_name2', 'air_area_name2', 'air_genre_name3', 'air_area_name3', 'air_genre_name4', 'air_area_name4', 'air_genre_name5', 'air_area_name5', 'air_genre_name6', 'air_area_name6', 'air_genre_name7', 'air_area_name7', 'air_genre_name8', 'air_area_name8', 'air_genre_name9', 'air_area_name9', 'rs1_x', 'rv1_x', 'rs2_x', 'rv2_x', 'rs1_y', 'rv1_y', 'rs2_y', 'rv2_y', 'total_reserv_sum', 'total_reserv_mean', 'total_reserv_dt_diff_mean', 'date_int', 'var_max_lat', 'var_max_long', 'lon_plus_lat', 'air_store_id2']\n"
     ]
    }
   ],
   "source": [
    "col = [c for c in train if c not in ['id', 'air_store_id', 'visit_date','visitors']]\n",
    "print(col)"
   ]
  },
  {
   "cell_type": "code",
   "execution_count": 117,
   "metadata": {
    "collapsed": true
   },
   "outputs": [],
   "source": [
    "train = train.fillna(-1)\n",
    "test = test.fillna(-1)"
   ]
  },
  {
   "cell_type": "code",
   "execution_count": 119,
   "metadata": {
    "collapsed": true
   },
   "outputs": [],
   "source": [
    "def RMSE(y, pred):\n",
    "    return metrics.mean_squared_error(y, pred)**0.5"
   ]
  },
  {
   "cell_type": "code",
   "execution_count": 141,
   "metadata": {},
   "outputs": [
    {
     "name": "stdout",
     "output_type": "stream",
     "text": [
      "Training of LGBMRegressor completed\n",
      "RMSE LGBMRegressor:  0.41598208432838946\n",
      "0.639 minutes elapsed!\n"
     ]
    }
   ],
   "source": [
    "t0 = time.time()\n",
    "\n",
    "model1 = LGBMRegressor(boosting_type='gbdt', num_leaves=60, max_depth=8, learning_rate=0.01, n_estimators=4500, max_bin=255, \n",
    "                       seed=42, nthread=-1)\n",
    "model1.fit(train[col], np.log1p(train['visitors'].values))\n",
    "preds1 = model1.predict(train[col])\n",
    "print('Training of LGBMRegressor completed')\n",
    "print('RMSE LGBMRegressor: ', RMSE(np.log1p(train['visitors'].values), preds1))\n",
    "preds1 = model1.predict(test[col])\n",
    "\n",
    "print(time_elapsed(t0))"
   ]
  },
  {
   "cell_type": "code",
   "execution_count": 142,
   "metadata": {
    "collapsed": true
   },
   "outputs": [],
   "source": [
    "# print(\"Features importance...\")\n",
    "# gain = lgb_model.feature_importance('gain')\n",
    "# feat_imp = pd.DataFrame({'feature':lgb_model.feature_name(), \n",
    "#                          'split':lgb_model.feature_importance('split'), \n",
    "#                          'gain':100 * gain / gain.sum()}).sort_values('gain', ascending=False)\n",
    "# print(feat_imp.head(50))"
   ]
  },
  {
   "cell_type": "code",
   "execution_count": 143,
   "metadata": {
    "collapsed": true
   },
   "outputs": [
    {
     "name": "stdout",
     "output_type": "stream",
     "text": [
      "                      feature    imp\n",
      "46                   date_int  37560\n",
      "50              air_store_id2  24227\n",
      "10               std_visitors  19175\n",
      "6               mean_visitors  17292\n",
      "9           count_16_visitors  14753\n",
      "8                max_visitors  14006\n",
      "7             median_visitors  12536\n",
      "24             air_area_name4  10161\n",
      "5                min_visitors   9779\n",
      "12              air_area_name   9317\n",
      "11             air_genre_name   8111\n",
      "0                         dow   8098\n",
      "36                      rv1_x   7533\n",
      "13                   latitude   7475\n",
      "17            air_genre_name1   5549\n",
      "14                  longitude   5442\n",
      "20             air_area_name2   5438\n",
      "35                      rs1_x   4477\n",
      "38                      rv2_x   4033\n",
      "37                      rs2_x   3831\n",
      "49               lon_plus_lat   2883\n",
      "2                       month   2496\n",
      "42                      rv2_y   1726\n",
      "40                      rv1_y   1555\n",
      "4                 holiday_flg   1520\n",
      "41                      rs2_y   1516\n",
      "44          total_reserv_mean   1358\n",
      "39                      rs1_y   1248\n",
      "47                var_max_lat   1189\n",
      "45  total_reserv_dt_diff_mean   1106\n",
      "26             air_area_name5   1020\n",
      "48               var_max_long   1011\n",
      "43           total_reserv_sum    781\n",
      "18             air_area_name1    586\n",
      "19            air_genre_name2    432\n",
      "22             air_area_name3    418\n",
      "28             air_area_name6    334\n",
      "31            air_genre_name8      0\n",
      "34             air_area_name9      0\n",
      "33            air_genre_name9      0\n",
      "32             air_area_name8      0\n",
      "30             air_area_name7      0\n",
      "29            air_genre_name7      0\n",
      "27            air_genre_name6      0\n",
      "1                        year      0\n",
      "3                 day_of_week      0\n",
      "23            air_genre_name4      0\n",
      "21            air_genre_name3      0\n",
      "16             air_area_name0      0\n",
      "15            air_genre_name0      0\n",
      "25            air_genre_name5      0\n"
     ]
    }
   ],
   "source": [
    "feat_imp = pd.DataFrame({'feature':col, 'imp':model1.feature_importances_}).sort_values('imp', ascending=False)\n",
    "print(feat_imp)"
   ]
  },
  {
   "cell_type": "code",
   "execution_count": 144,
   "metadata": {},
   "outputs": [
    {
     "name": "stdout",
     "output_type": "stream",
     "text": [
      "Training of KNeighborsRegressor completed\n",
      "RMSE KNeighborsRegressor:  0.41286349653957\n",
      "0.269 minutes elapsed!\n"
     ]
    }
   ],
   "source": [
    "t0 = time.time()\n",
    "\n",
    "model2 = neighbors.KNeighborsRegressor(n_jobs=-1, n_neighbors=4)\n",
    "model2.fit(train[col], np.log1p(train['visitors'].values))\n",
    "preds2 = model2.predict(train[col])\n",
    "print('Training of KNeighborsRegressor completed')\n",
    "print('RMSE KNeighborsRegressor: ', RMSE(np.log1p(train['visitors'].values), preds2))\n",
    "preds2 = model2.predict(test[col])\n",
    "\n",
    "print(time_elapsed(t0))"
   ]
  },
  {
   "cell_type": "code",
   "execution_count": 145,
   "metadata": {
    "scrolled": true
   },
   "outputs": [
    {
     "name": "stdout",
     "output_type": "stream",
     "text": [
      "      Iter       Train Loss      OOB Improve   Remaining Time \n",
      "         1           0.6293           0.0382            4.71m\n",
      "         2           0.5930           0.0350            4.74m\n",
      "         3           0.5624           0.0309            4.68m\n",
      "         4           0.5336           0.0283            4.66m\n",
      "         5           0.5055           0.0255            4.65m\n",
      "         6           0.4821           0.0238            4.64m\n",
      "         7           0.4613           0.0213            4.63m\n",
      "         8           0.4401           0.0193            4.62m\n",
      "         9           0.4233           0.0176            4.61m\n",
      "        10           0.4083           0.0160            4.60m\n",
      "        20           0.3081           0.0059            4.43m\n",
      "        30           0.2662           0.0024            4.17m\n",
      "        40           0.2475           0.0010            3.93m\n",
      "        50           0.2373           0.0005            3.64m\n",
      "        60           0.2294           0.0004            3.35m\n",
      "        70           0.2232           0.0002            3.08m\n",
      "        80           0.2182           0.0001            2.82m\n",
      "        90           0.2153           0.0001            2.57m\n",
      "       100           0.2089           0.0001            2.30m\n",
      "       200           0.1817          -0.0000            0.00s\n",
      "Training of GradientBoostingRegressor completed\n",
      "RMSE GradientBoostingRegressor:  0.42776752891291364\n",
      "4.179 minutes elapsed!\n"
     ]
    }
   ],
   "source": [
    "t0 = time.time()\n",
    "\n",
    "model3 = ensemble.GradientBoostingRegressor(learning_rate=0.05, random_state=42, n_estimators=200, subsample=0.8, \n",
    "                                            max_depth=8, verbose=1)\n",
    "model3.fit(train[col], np.log1p(train['visitors'].values))\n",
    "preds3 = model3.predict(train[col])\n",
    "print('Training of GradientBoostingRegressor completed')\n",
    "print('RMSE GradientBoostingRegressor: ', RMSE(np.log1p(train['visitors'].values), preds3))\n",
    "preds3 = model3.predict(test[col])\n",
    "\n",
    "print(time_elapsed(t0))"
   ]
  },
  {
   "cell_type": "code",
   "execution_count": 146,
   "metadata": {},
   "outputs": [
    {
     "data": {
      "text/plain": [
       "0     5.155080\n",
       "1    25.311924\n",
       "2    28.272544\n",
       "3    28.130924\n",
       "4    32.037163\n",
       "Name: visitors, dtype: float64"
      ]
     },
     "execution_count": 146,
     "metadata": {},
     "output_type": "execute_result"
    }
   ],
   "source": [
    "test['visitors'] = 0.3*preds1+0.3*preds2+0.4*preds3\n",
    "test['visitors'] = np.expm1(test['visitors']).clip(lower=0.)\n",
    "test['visitors'].head()"
   ]
  },
  {
   "cell_type": "code",
   "execution_count": 149,
   "metadata": {},
   "outputs": [],
   "source": [
    "test[['id','visitors']].to_csv(os.path.join(BASE_DIR, 'submissions', 'bad_sub.csv'), index=False)"
   ]
  },
  {
   "cell_type": "code",
   "execution_count": 151,
   "metadata": {},
   "outputs": [
    {
     "data": {
      "text/plain": [
       "0"
      ]
     },
     "execution_count": 151,
     "metadata": {},
     "output_type": "execute_result"
    }
   ],
   "source": [
    "# Submit the submission on Kaggle\n",
    "fname = 'bad_sub.csv'\n",
    "config_cmd = 'kg submit '+os.path.join(BASE_DIR, 'submissions', fname)+' -c recruit-restaurant-visitor-forecasting'\n",
    "os.system(config_cmd)"
   ]
  },
  {
   "cell_type": "code",
   "execution_count": null,
   "metadata": {
    "collapsed": true
   },
   "outputs": [],
   "source": []
  }
 ],
 "metadata": {
  "kernelspec": {
   "display_name": "Python 3",
   "language": "python",
   "name": "python3"
  },
  "language_info": {
   "codemirror_mode": {
    "name": "ipython",
    "version": 3
   },
   "file_extension": ".py",
   "mimetype": "text/x-python",
   "name": "python",
   "nbconvert_exporter": "python",
   "pygments_lexer": "ipython3",
   "version": "3.6.3"
  }
 },
 "nbformat": 4,
 "nbformat_minor": 2
}
